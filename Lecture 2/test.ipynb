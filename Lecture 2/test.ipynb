{
 "cells": [
  {
   "cell_type": "markdown",
   "metadata": {},
   "source": [
    "# Testing DB"
   ]
  },
  {
   "cell_type": "code",
   "execution_count": 9,
   "metadata": {},
   "outputs": [
    {
     "name": "stdout",
     "output_type": "stream",
     "text": [
      "[4.526 3.585 3.521 ... 0.923 0.847 0.894]\n",
      "[[ 0.  0.  0.  1. 11.  0.  0.  0.]\n",
      " [ 0.  0.  0.  7.  8.  0.  0.  0.]\n",
      " [ 0.  0.  1. 13.  6.  2.  2.  0.]\n",
      " [ 0.  0.  7. 15.  0.  9.  8.  0.]\n",
      " [ 0.  5. 16. 10.  0. 16.  6.  0.]\n",
      " [ 0.  4. 15. 16. 13. 16.  1.  0.]\n",
      " [ 0.  0.  0.  3. 15. 10.  0.  0.]\n",
      " [ 0.  0.  0.  2. 16.  4.  0.  0.]]\n",
      ".. _iris_dataset:\n",
      "\n",
      "Iris plants dataset\n",
      "--------------------\n",
      "\n",
      "**Data Set Characteristics:**\n",
      "\n",
      ":Number of Instances: 150 (50 in each of three classes)\n",
      ":Number of Attributes: 4 numeric, predictive attributes and the class\n",
      ":Attribute Information:\n",
      "    - sepal length in cm\n",
      "    - sepal width in cm\n",
      "    - petal length in cm\n",
      "    - petal width in cm\n",
      "    - class:\n",
      "            - Iris-Setosa\n",
      "            - Iris-Versicolour\n",
      "            - Iris-Virginica\n",
      "\n",
      ":Summary Statistics:\n",
      "\n",
      "============== ==== ==== ======= ===== ====================\n",
      "                Min  Max   Mean    SD   Class Correlation\n",
      "============== ==== ==== ======= ===== ====================\n",
      "sepal length:   4.3  7.9   5.84   0.83    0.7826\n",
      "sepal width:    2.0  4.4   3.05   0.43   -0.4194\n",
      "petal length:   1.0  6.9   3.76   1.76    0.9490  (high!)\n",
      "petal width:    0.1  2.5   1.20   0.76    0.9565  (high!)\n",
      "============== ==== ==== ======= ===== ====================\n",
      "\n",
      ":Missing Attribute Values: None\n",
      ":Class Distribution: 33.3% for each of 3 classes.\n",
      ":Creator: R.A. Fisher\n",
      ":Donor: Michael Marshall (MARSHALL%PLU@io.arc.nasa.gov)\n",
      ":Date: July, 1988\n",
      "\n",
      "The famous Iris database, first used by Sir R.A. Fisher. The dataset is taken\n",
      "from Fisher's paper. Note that it's the same as in R, but not as in the UCI\n",
      "Machine Learning Repository, which has two wrong data points.\n",
      "\n",
      "This is perhaps the best known database to be found in the\n",
      "pattern recognition literature.  Fisher's paper is a classic in the field and\n",
      "is referenced frequently to this day.  (See Duda & Hart, for example.)  The\n",
      "data set contains 3 classes of 50 instances each, where each class refers to a\n",
      "type of iris plant.  One class is linearly separable from the other 2; the\n",
      "latter are NOT linearly separable from each other.\n",
      "\n",
      ".. dropdown:: References\n",
      "\n",
      "  - Fisher, R.A. \"The use of multiple measurements in taxonomic problems\"\n",
      "    Annual Eugenics, 7, Part II, 179-188 (1936); also in \"Contributions to\n",
      "    Mathematical Statistics\" (John Wiley, NY, 1950).\n",
      "  - Duda, R.O., & Hart, P.E. (1973) Pattern Classification and Scene Analysis.\n",
      "    (Q327.D83) John Wiley & Sons.  ISBN 0-471-22361-1.  See page 218.\n",
      "  - Dasarathy, B.V. (1980) \"Nosing Around the Neighborhood: A New System\n",
      "    Structure and Classification Rule for Recognition in Partially Exposed\n",
      "    Environments\".  IEEE Transactions on Pattern Analysis and Machine\n",
      "    Intelligence, Vol. PAMI-2, No. 1, 67-71.\n",
      "  - Gates, G.W. (1972) \"The Reduced Nearest Neighbor Rule\".  IEEE Transactions\n",
      "    on Information Theory, May 1972, 431-433.\n",
      "  - See also: 1988 MLC Proceedings, 54-64.  Cheeseman et al\"s AUTOCLASS II\n",
      "    conceptual clustering system finds 3 classes in the data.\n",
      "  - Many, many more ...\n",
      "\n"
     ]
    }
   ],
   "source": [
    "from sklearn import datasets\n",
    "\n",
    "a = datasets.fetch_california_housing()\n",
    "print(a.target)\n",
    "\n",
    "b = datasets.load_digits()\n",
    "print(b.images[4])\n",
    "\n",
    "c = datasets.load_iris()\n",
    "print(c[\"DESCR\"])"
   ]
  },
  {
   "cell_type": "markdown",
   "metadata": {},
   "source": [
    "# Imputation\n",
    "> Imputation in data science refers to the process of replacing missing or incomplete data with substituted values. In datasets, missing values are common and can arise from various reasons like data entry errors, equipment failures, or intentional omission. Imputation is essential because many data analysis algorithms require a complete dataset to function properly.\n",
    "\n",
    "Types of Imputation:\n",
    "- **Mean/Median/Mode Imputation:**\n",
    "    Mean: Replace missing values with the mean (average) of the non-missing values in that column.\n",
    "    Median: Replace missing values with the median of the non-missing values, useful for skewed data.\n",
    "    Mode: Replace missing values with the mode (most frequent value), often used for categorical data.\n",
    "    Imputation Using k-Nearest Neighbors (k-NN):\n",
    "\n",
    "    Missing values are imputed using the values from the nearest neighbors in the dataset. This method considers the similarity between data points.\n",
    "\n",
    "- **Regression Imputation:**\n",
    "    A regression model is built to predict missing values based on other variables in the dataset. The missing value is then replaced with the predicted value.\n",
    "    Multiple Imputation:\n",
    "\n",
    "    Instead of filling in a single value for each missing data point, multiple imputed datasets are created, and the results are pooled to account for the uncertainty of the missing data.\n",
    "\n",
    "- **Forward/Backward Fill:**\n",
    "    Forward Fill: Propagates the last observed value forward to fill missing values.\n",
    "    Backward Fill: Propagates the next observed value backward to fill missing values.\n",
    "\n",
    "- **Interpolation:**\n",
    "    Estimates missing data points within the range of a discrete set of known data points using methods like linear or spline interpolation."
   ]
  },
  {
   "cell_type": "code",
   "execution_count": 1,
   "metadata": {},
   "outputs": [
    {
     "name": "stdout",
     "output_type": "stream",
     "text": [
      "   battery_power  blue  clock_speed  dual_sim  fc  four_g  int_memory\n",
      "0            842     0          2.2         0   1       0        32.0\n",
      "1           1021     1          0.5         1   0       1        53.0\n",
      "2            563     1          0.5         1   2       1        41.0\n",
      "3            615     1          2.5         0   0       0        10.0\n",
      "4           1821     1          1.2         0  13       1        44.0\n",
      "5           1859     0          0.5         1   3       0        22.0\n",
      "6           1821     0          1.7         0   4       1        10.0\n",
      "7           1954     0          0.5         1   0       0        24.0\n",
      "8           1445     1          0.5         0   0       0        53.0\n",
      "9            509     1          0.6         1   2       1         9.0\n"
     ]
    }
   ],
   "source": [
    "import pandas as pd\n",
    "from sklearn.ensemble import ExtraTreesClassifier\n",
    "import numpy as np\n",
    "import matplotlib.pyplot as plt\n",
    "\n",
    "df = pd.read_csv(\"train.csv\")\n",
    "df.fillna(df.median(), inplace=True)\n",
    "print(df.head(10))"
   ]
  },
  {
   "cell_type": "markdown",
   "metadata": {},
   "source": [
    "# Feature Importance"
   ]
  },
  {
   "cell_type": "code",
   "execution_count": 2,
   "metadata": {},
   "outputs": [
    {
     "name": "stdout",
     "output_type": "stream",
     "text": [
      "[0.20858491 0.02047109 0.1589173  0.01475345 0.14399836 0.03281621\n",
      " 0.42045867]\n"
     ]
    },
    {
     "data": {
      "image/png": "[encoded data removed]",
      "text/plain": [
       "<Figure size 640x480 with 1 Axes>"
      ]
     },
     "metadata": {},
     "output_type": "display_data"
    }
   ],
   "source": [
    "import pandas as pd\n",
    "from sklearn.ensemble import ExtraTreesClassifier\n",
    "import numpy as np\n",
    "import matplotlib.pyplot as plt\n",
    "\n",
    "df = pd.read_csv(\"train.csv\")\n",
    "\n",
    "# selects all rows (:) and columns from index 0 to 19 (0:20). This means it takes the first 20 columns of the DataFrame df\n",
    "x = df.iloc[:, 0:20]\n",
    "x = x.fillna(x.median())\n",
    "# selects all rows (:) and the last column (-1). This means it takes the last column of the DataFrame df\n",
    "y = df.iloc[:, -1]\n",
    "y = y.fillna(y.median())\n",
    "\n",
    "model = ExtraTreesClassifier()\n",
    "model.fit(x, y)\n",
    "print(model.feature_importances_)\n",
    "feat_importances = pd.Series(model.feature_importances_, index=x.columns)\n",
    "feat_importances.nlargest(5).plot(kind='barh')\n",
    "plt.show()"
   ]
  },
  {
   "cell_type": "markdown",
   "metadata": {},
   "source": [
    "# Scaling"
   ]
  },
  {
   "cell_type": "code",
   "execution_count": 8,
   "metadata": {},
   "outputs": [
    {
     "name": "stdout",
     "output_type": "stream",
     "text": [
      "data:\n",
      "    milage     liters  consimtime  target\n",
      "0   14488   7.153469    1.673904       2\n",
      "1   26050   1.441871    0.805124       1\n",
      "2   75136  13.147394    0.428964       1\n",
      "3   38344   1.669788    0.134296       1\n",
      "4   72993  10.141740    1.032955       1\n",
      "5   35948   6.830792    1.213192       3\n",
      "6   42666  13.276369    0.543880       3\n",
      "7   67497   8.631577    0.749278       1\n",
      "8   35483  12.273169    1.503053       3\n",
      "9   50242   3.723498    0.831917       1\n",
      "data after scaling:\n",
      " [[1.         1.48262275 2.        ]\n",
      " [1.19064108 1.         1.43571351]\n",
      " [2.         1.98910178 1.19139157]\n",
      " [1.3933518  1.0192587  1.        ]\n",
      " [1.96466495 1.73512784 1.58369338]\n",
      " [1.35384514 1.45535696 1.70076019]\n",
      " [1.46461549 2.         1.26603135]\n",
      " [1.87404366 1.60752099 1.39944064]\n",
      " [1.34617794 1.91523088 1.88902955]\n",
      " [1.58953304 1.19279457 1.45311599]]\n"
     ]
    }
   ],
   "source": [
    "from sklearn.preprocessing import MinMaxScaler\n",
    "import pandas as pd\n",
    "\n",
    "def minmax_demo():\n",
    "    data = pd.read_csv(\"dating.txt\",delimiter=\"\\t\")\n",
    "    print(\"data:\\n\",data)\n",
    "    data = data.iloc[:,:3]\n",
    "    transfer = MinMaxScaler(feature_range=(1,2))\n",
    "    data_new = transfer.fit_transform(data)\n",
    "    print(\"data after scaling:\\n\",data_new)\n",
    "\n",
    "minmax_demo()"
   ]
  }
 ],
 "metadata": {
  "kernelspec": {
   "display_name": "Python 3",
   "language": "python",
   "name": "python3"
  },
  "language_info": {
   "codemirror_mode": {
    "name": "ipython",
    "version": 3
   },
   "file_extension": ".py",
   "mimetype": "text/x-python",
   "name": "python",
   "nbconvert_exporter": "python",
   "pygments_lexer": "ipython3",
   "version": "3.11.2"
  }
 },
 "nbformat": 4,
 "nbformat_minor": 2
}
